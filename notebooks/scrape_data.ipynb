{
 "cells": [
  {
   "cell_type": "code",
   "execution_count": 34,
   "id": "initial_id",
   "metadata": {
    "collapsed": true,
    "ExecuteTime": {
     "end_time": "2024-01-21T18:53:40.141084Z",
     "start_time": "2024-01-21T18:53:40.127939Z"
    }
   },
   "outputs": [],
   "source": [
    "# Scarpe data from https://s3.amazonaws.com/tripdata/JC-201509-citibike-tripdata.csv.zip\n",
    "import pandas as pd\n",
    "import numpy as np\n",
    "import matplotlib.pyplot as plt\n",
    "import seaborn as sns\n",
    "import datetime\n",
    "import os\n",
    "import glob\n",
    "import zipfile\n",
    "import urllib.request\n",
    "from urllib.error import HTTPError\n",
    "import shutil\n",
    "from tqdm import tqdm\n"
   ]
  },
  {
   "cell_type": "code",
   "execution_count": 25,
   "outputs": [
    {
     "data": {
      "text/plain": "'JC-201510-citibike-tripdata.csv'"
     },
     "execution_count": 25,
     "metadata": {},
     "output_type": "execute_result"
    }
   ],
   "source": [
    "# Download data from citibike website\n",
    "def download_data_one_month(year, month):\n",
    "    month = str(month).zfill(2)\n",
    "    url = f'https://s3.amazonaws.com/tripdata/JC-{year}{month}-citibike-tripdata.csv.zip'\n",
    "    output_path = 'data'\n",
    "    file_name = f'JC-{year}{month}-citibike-tripdata.csv.zip'\n",
    "    with urllib.request.urlopen(url) as response, open(os.path.join(output_path, file_name), 'wb') as out_file:\n",
    "        shutil.copyfileobj(response, out_file)\n",
    "    with zipfile.ZipFile(os.path.join('data', file_name), 'r') as zip_ref:\n",
    "        zip_ref.extractall('data')\n",
    "    os.remove(os.path.join('data', file_name))\n",
    "    return f'JC-{year}{month}-citibike-tripdata.csv'\n",
    "\n",
    "download_data_one_month(2015, 10)"
   ],
   "metadata": {
    "collapsed": false,
    "ExecuteTime": {
     "end_time": "2024-01-21T18:46:39.869227Z",
     "start_time": "2024-01-21T18:46:39.656082Z"
    }
   },
   "id": "27ec0263fbeb179e"
  },
  {
   "cell_type": "code",
   "execution_count": 28,
   "outputs": [],
   "source": [
    "def download_all_data():\n",
    "    dfs = []\n",
    "    # Limiting to 2016-2024 to get full years of data\n",
    "    for year in tqdm(range(2016, 2024), desc='Year'):\n",
    "        for month in range(1, 13):\n",
    "            try:\n",
    "                download_data_one_month(year, month)\n",
    "            except HTTPError as e:\n",
    "                print(f'Failed to download file for {year}-{month}, {e}')"
   ],
   "metadata": {
    "collapsed": false,
    "ExecuteTime": {
     "end_time": "2024-01-21T18:48:20.066960Z",
     "start_time": "2024-01-21T18:48:20.054897Z"
    }
   },
   "id": "3e9eb5e1a4a1769c"
  },
  {
   "cell_type": "code",
   "execution_count": 29,
   "outputs": [
    {
     "name": "stdout",
     "output_type": "stream",
     "text": [
      "Failed to download file for 2015-1, HTTP Error 404: Not Found\n",
      "Failed to download file for 2015-2, HTTP Error 404: Not Found\n",
      "Failed to download file for 2015-3, HTTP Error 404: Not Found\n",
      "Failed to download file for 2015-4, HTTP Error 404: Not Found\n",
      "Failed to download file for 2015-5, HTTP Error 404: Not Found\n",
      "Failed to download file for 2015-6, HTTP Error 404: Not Found\n",
      "Failed to download file for 2015-7, HTTP Error 404: Not Found\n",
      "Failed to download file for 2015-8, HTTP Error 404: Not Found\n",
      "Downloaded JC-201509-citibike-tripdata.csv\n",
      "Downloaded JC-201510-citibike-tripdata.csv\n",
      "Downloaded JC-201511-citibike-tripdata.csv\n",
      "Downloaded JC-201512-citibike-tripdata.csv\n",
      "Downloaded JC-201601-citibike-tripdata.csv\n",
      "Downloaded JC-201602-citibike-tripdata.csv\n",
      "Downloaded JC-201603-citibike-tripdata.csv\n",
      "Downloaded JC-201604-citibike-tripdata.csv\n",
      "Downloaded JC-201605-citibike-tripdata.csv\n",
      "Downloaded JC-201606-citibike-tripdata.csv\n",
      "Downloaded JC-201607-citibike-tripdata.csv\n",
      "Downloaded JC-201608-citibike-tripdata.csv\n",
      "Downloaded JC-201609-citibike-tripdata.csv\n",
      "Downloaded JC-201610-citibike-tripdata.csv\n",
      "Downloaded JC-201611-citibike-tripdata.csv\n",
      "Downloaded JC-201612-citibike-tripdata.csv\n",
      "Downloaded JC-201701-citibike-tripdata.csv\n",
      "Downloaded JC-201702-citibike-tripdata.csv\n",
      "Downloaded JC-201703-citibike-tripdata.csv\n",
      "Downloaded JC-201704-citibike-tripdata.csv\n",
      "Downloaded JC-201705-citibike-tripdata.csv\n",
      "Downloaded JC-201706-citibike-tripdata.csv\n",
      "Downloaded JC-201707-citibike-tripdata.csv\n",
      "Failed to download file for 2017-8, HTTP Error 404: Not Found\n",
      "Downloaded JC-201709-citibike-tripdata.csv\n",
      "Downloaded JC-201710-citibike-tripdata.csv\n",
      "Downloaded JC-201711-citibike-tripdata.csv\n",
      "Downloaded JC-201712-citibike-tripdata.csv\n",
      "Downloaded JC-201801-citibike-tripdata.csv\n",
      "Downloaded JC-201802-citibike-tripdata.csv\n",
      "Downloaded JC-201803-citibike-tripdata.csv\n",
      "Downloaded JC-201804-citibike-tripdata.csv\n",
      "Downloaded JC-201805-citibike-tripdata.csv\n",
      "Downloaded JC-201806-citibike-tripdata.csv\n",
      "Downloaded JC-201807-citibike-tripdata.csv\n",
      "Downloaded JC-201808-citibike-tripdata.csv\n",
      "Downloaded JC-201809-citibike-tripdata.csv\n",
      "Downloaded JC-201810-citibike-tripdata.csv\n",
      "Downloaded JC-201811-citibike-tripdata.csv\n",
      "Downloaded JC-201812-citibike-tripdata.csv\n",
      "Downloaded JC-201901-citibike-tripdata.csv\n",
      "Downloaded JC-201902-citibike-tripdata.csv\n",
      "Downloaded JC-201903-citibike-tripdata.csv\n",
      "Downloaded JC-201904-citibike-tripdata.csv\n",
      "Downloaded JC-201905-citibike-tripdata.csv\n",
      "Downloaded JC-201906-citibike-tripdata.csv\n",
      "Downloaded JC-201907-citibike-tripdata.csv\n",
      "Downloaded JC-201908-citibike-tripdata.csv\n",
      "Downloaded JC-201909-citibike-tripdata.csv\n",
      "Downloaded JC-201910-citibike-tripdata.csv\n",
      "Downloaded JC-201911-citibike-tripdata.csv\n",
      "Downloaded JC-201912-citibike-tripdata.csv\n",
      "Downloaded JC-202001-citibike-tripdata.csv\n",
      "Downloaded JC-202002-citibike-tripdata.csv\n",
      "Downloaded JC-202003-citibike-tripdata.csv\n",
      "Downloaded JC-202004-citibike-tripdata.csv\n",
      "Downloaded JC-202005-citibike-tripdata.csv\n",
      "Downloaded JC-202006-citibike-tripdata.csv\n",
      "Downloaded JC-202007-citibike-tripdata.csv\n",
      "Downloaded JC-202008-citibike-tripdata.csv\n",
      "Downloaded JC-202009-citibike-tripdata.csv\n",
      "Downloaded JC-202010-citibike-tripdata.csv\n",
      "Downloaded JC-202011-citibike-tripdata.csv\n",
      "Downloaded JC-202012-citibike-tripdata.csv\n",
      "Downloaded JC-202101-citibike-tripdata.csv\n",
      "Downloaded JC-202102-citibike-tripdata.csv\n",
      "Downloaded JC-202103-citibike-tripdata.csv\n",
      "Downloaded JC-202104-citibike-tripdata.csv\n",
      "Downloaded JC-202105-citibike-tripdata.csv\n",
      "Downloaded JC-202106-citibike-tripdata.csv\n",
      "Downloaded JC-202107-citibike-tripdata.csv\n",
      "Downloaded JC-202108-citibike-tripdata.csv\n",
      "Downloaded JC-202109-citibike-tripdata.csv\n",
      "Downloaded JC-202110-citibike-tripdata.csv\n",
      "Downloaded JC-202111-citibike-tripdata.csv\n",
      "Downloaded JC-202112-citibike-tripdata.csv\n",
      "Downloaded JC-202201-citibike-tripdata.csv\n",
      "Downloaded JC-202202-citibike-tripdata.csv\n",
      "Downloaded JC-202203-citibike-tripdata.csv\n",
      "Downloaded JC-202204-citibike-tripdata.csv\n",
      "Downloaded JC-202205-citibike-tripdata.csv\n",
      "Downloaded JC-202206-citibike-tripdata.csv\n",
      "Failed to download file for 2022-7, HTTP Error 404: Not Found\n",
      "Downloaded JC-202208-citibike-tripdata.csv\n",
      "Downloaded JC-202209-citibike-tripdata.csv\n",
      "Downloaded JC-202210-citibike-tripdata.csv\n",
      "Downloaded JC-202211-citibike-tripdata.csv\n",
      "Downloaded JC-202212-citibike-tripdata.csv\n",
      "Downloaded JC-202301-citibike-tripdata.csv\n",
      "Downloaded JC-202302-citibike-tripdata.csv\n",
      "Downloaded JC-202303-citibike-tripdata.csv\n",
      "Downloaded JC-202304-citibike-tripdata.csv\n",
      "Downloaded JC-202305-citibike-tripdata.csv\n",
      "Downloaded JC-202306-citibike-tripdata.csv\n",
      "Downloaded JC-202307-citibike-tripdata.csv\n",
      "Downloaded JC-202308-citibike-tripdata.csv\n",
      "Downloaded JC-202309-citibike-tripdata.csv\n",
      "Downloaded JC-202310-citibike-tripdata.csv\n",
      "Downloaded JC-202311-citibike-tripdata.csv\n",
      "Downloaded JC-202312-citibike-tripdata.csv\n"
     ]
    }
   ],
   "source": [
    "download_all_data()"
   ],
   "metadata": {
    "collapsed": false,
    "ExecuteTime": {
     "end_time": "2024-01-21T18:49:07.939090Z",
     "start_time": "2024-01-21T18:48:20.423581Z"
    }
   },
   "id": "49746ed648546bb3"
  },
  {
   "cell_type": "markdown",
   "source": [
    "For the months that raised an error, I manually downloaded the files and put them in the data folder. Those months are:\n",
    "- 2017-08 : missing a dash in the file name\n",
    "- 2022-07 : typo in \"citibike\""
   ],
   "metadata": {
    "collapsed": false
   },
   "id": "cac9f2c08a62371e"
  },
  {
   "cell_type": "code",
   "execution_count": 39,
   "outputs": [
    {
     "name": "stderr",
     "output_type": "stream",
     "text": [
      "100%|██████████| 99/99 [00:18<00:00,  5.29it/s]\n"
     ]
    },
    {
     "data": {
      "text/plain": "       trip_duration                start_time                 stop_time  \\\n0              148.0       2017-01-01 00:21:32       2017-01-01 00:24:01   \n1             1283.0       2017-01-01 00:24:35       2017-01-01 00:45:58   \n2              372.0       2017-01-01 00:38:19       2017-01-01 00:44:31   \n3             1513.0       2017-01-01 00:38:37       2017-01-01 01:03:50   \n4              639.0       2017-01-01 01:47:52       2017-01-01 01:58:31   \n...              ...                       ...                       ...   \n53828          270.0  2020-10-13 15:05:35.0860  2020-10-13 15:10:05.3430   \n53829          400.0  2020-10-13 15:09:03.4890  2020-10-13 15:15:43.9750   \n53830          206.0  2020-10-13 15:11:34.3500  2020-10-13 15:15:00.5030   \n53831          216.0  2020-10-13 15:11:49.1510  2020-10-13 15:15:25.6930   \n53832          418.0  2020-10-13 15:12:31.7920  2020-10-13 15:19:30.5280   \n\n      start_station_id start_station_name  start_station_latitude  \\\n0                 3276   Marin Light Rail               40.714584   \n1                 3183     Exchange Place               40.716247   \n2                 3183     Exchange Place               40.716247   \n3                 3194    McGinley Square               40.725340   \n4                 3183     Exchange Place               40.716247   \n...                ...                ...                     ...   \n53828             3207        Oakland Ave               40.737604   \n53829             3209       Brunswick St               40.724176   \n53830             3195            Sip Ave               40.730897   \n53831             3195            Sip Ave               40.730897   \n53832             3267       Morris Canal               40.712419   \n\n       start_station_longitude end_station_id       end_station_name  \\\n0                   -74.042817           3185              City Hall   \n1                   -74.033459           3198       Heights Elevator   \n2                   -74.033459           3211             Newark Ave   \n3                   -74.067622           3271    Danforth Light Rail   \n4                   -74.033459           3203          Hamilton Park   \n...                        ...            ...                    ...   \n53828               -74.052478           3640         Journal Square   \n53829               -74.050656           3209           Brunswick St   \n53830               -74.063913           3194        McGinley Square   \n53831               -74.063913           3225  Baldwin at Montgomery   \n53832               -74.038526           3186          Grove St PATH   \n\n       end_station_latitude  end_station_longitude  bike_id   user_type  \\\n0                 40.717732             -74.043845  24575.0  Subscriber   \n1                 40.748716             -74.040443  24723.0  Subscriber   \n2                 40.721525             -74.046305  24620.0  Subscriber   \n3                 40.692640             -74.088012  24668.0  Subscriber   \n4                 40.727596             -74.044247  26167.0  Subscriber   \n...                     ...                    ...      ...         ...   \n53828             40.733670             -74.062500  44744.0  Subscriber   \n53829             40.724176             -74.050656  45345.0  Subscriber   \n53830             40.725340             -74.067622  47019.0  Subscriber   \n53831             40.723659             -74.064194  42191.0  Subscriber   \n53832             40.719586             -74.043117  47255.0  Subscriber   \n\n       birth_year  gender ride_id rideable_type member_casual  \n0          1983.0     1.0     NaN           NaN           NaN  \n1          1978.0     1.0     NaN           NaN           NaN  \n2          1989.0     1.0     NaN           NaN           NaN  \n3          1961.0     1.0     NaN           NaN           NaN  \n4          1993.0     1.0     NaN           NaN           NaN  \n...           ...     ...     ...           ...           ...  \n53828      1963.0     2.0     NaN           NaN           NaN  \n53829      1984.0     1.0     NaN           NaN           NaN  \n53830      1993.0     1.0     NaN           NaN           NaN  \n53831      1966.0     1.0     NaN           NaN           NaN  \n53832      1991.0     1.0     NaN           NaN           NaN  \n\n[4207977 rows x 18 columns]",
      "text/html": "<div>\n<style scoped>\n    .dataframe tbody tr th:only-of-type {\n        vertical-align: middle;\n    }\n\n    .dataframe tbody tr th {\n        vertical-align: top;\n    }\n\n    .dataframe thead th {\n        text-align: right;\n    }\n</style>\n<table border=\"1\" class=\"dataframe\">\n  <thead>\n    <tr style=\"text-align: right;\">\n      <th></th>\n      <th>trip_duration</th>\n      <th>start_time</th>\n      <th>stop_time</th>\n      <th>start_station_id</th>\n      <th>start_station_name</th>\n      <th>start_station_latitude</th>\n      <th>start_station_longitude</th>\n      <th>end_station_id</th>\n      <th>end_station_name</th>\n      <th>end_station_latitude</th>\n      <th>end_station_longitude</th>\n      <th>bike_id</th>\n      <th>user_type</th>\n      <th>birth_year</th>\n      <th>gender</th>\n      <th>ride_id</th>\n      <th>rideable_type</th>\n      <th>member_casual</th>\n    </tr>\n  </thead>\n  <tbody>\n    <tr>\n      <th>0</th>\n      <td>148.0</td>\n      <td>2017-01-01 00:21:32</td>\n      <td>2017-01-01 00:24:01</td>\n      <td>3276</td>\n      <td>Marin Light Rail</td>\n      <td>40.714584</td>\n      <td>-74.042817</td>\n      <td>3185</td>\n      <td>City Hall</td>\n      <td>40.717732</td>\n      <td>-74.043845</td>\n      <td>24575.0</td>\n      <td>Subscriber</td>\n      <td>1983.0</td>\n      <td>1.0</td>\n      <td>NaN</td>\n      <td>NaN</td>\n      <td>NaN</td>\n    </tr>\n    <tr>\n      <th>1</th>\n      <td>1283.0</td>\n      <td>2017-01-01 00:24:35</td>\n      <td>2017-01-01 00:45:58</td>\n      <td>3183</td>\n      <td>Exchange Place</td>\n      <td>40.716247</td>\n      <td>-74.033459</td>\n      <td>3198</td>\n      <td>Heights Elevator</td>\n      <td>40.748716</td>\n      <td>-74.040443</td>\n      <td>24723.0</td>\n      <td>Subscriber</td>\n      <td>1978.0</td>\n      <td>1.0</td>\n      <td>NaN</td>\n      <td>NaN</td>\n      <td>NaN</td>\n    </tr>\n    <tr>\n      <th>2</th>\n      <td>372.0</td>\n      <td>2017-01-01 00:38:19</td>\n      <td>2017-01-01 00:44:31</td>\n      <td>3183</td>\n      <td>Exchange Place</td>\n      <td>40.716247</td>\n      <td>-74.033459</td>\n      <td>3211</td>\n      <td>Newark Ave</td>\n      <td>40.721525</td>\n      <td>-74.046305</td>\n      <td>24620.0</td>\n      <td>Subscriber</td>\n      <td>1989.0</td>\n      <td>1.0</td>\n      <td>NaN</td>\n      <td>NaN</td>\n      <td>NaN</td>\n    </tr>\n    <tr>\n      <th>3</th>\n      <td>1513.0</td>\n      <td>2017-01-01 00:38:37</td>\n      <td>2017-01-01 01:03:50</td>\n      <td>3194</td>\n      <td>McGinley Square</td>\n      <td>40.725340</td>\n      <td>-74.067622</td>\n      <td>3271</td>\n      <td>Danforth Light Rail</td>\n      <td>40.692640</td>\n      <td>-74.088012</td>\n      <td>24668.0</td>\n      <td>Subscriber</td>\n      <td>1961.0</td>\n      <td>1.0</td>\n      <td>NaN</td>\n      <td>NaN</td>\n      <td>NaN</td>\n    </tr>\n    <tr>\n      <th>4</th>\n      <td>639.0</td>\n      <td>2017-01-01 01:47:52</td>\n      <td>2017-01-01 01:58:31</td>\n      <td>3183</td>\n      <td>Exchange Place</td>\n      <td>40.716247</td>\n      <td>-74.033459</td>\n      <td>3203</td>\n      <td>Hamilton Park</td>\n      <td>40.727596</td>\n      <td>-74.044247</td>\n      <td>26167.0</td>\n      <td>Subscriber</td>\n      <td>1993.0</td>\n      <td>1.0</td>\n      <td>NaN</td>\n      <td>NaN</td>\n      <td>NaN</td>\n    </tr>\n    <tr>\n      <th>...</th>\n      <td>...</td>\n      <td>...</td>\n      <td>...</td>\n      <td>...</td>\n      <td>...</td>\n      <td>...</td>\n      <td>...</td>\n      <td>...</td>\n      <td>...</td>\n      <td>...</td>\n      <td>...</td>\n      <td>...</td>\n      <td>...</td>\n      <td>...</td>\n      <td>...</td>\n      <td>...</td>\n      <td>...</td>\n      <td>...</td>\n    </tr>\n    <tr>\n      <th>53828</th>\n      <td>270.0</td>\n      <td>2020-10-13 15:05:35.0860</td>\n      <td>2020-10-13 15:10:05.3430</td>\n      <td>3207</td>\n      <td>Oakland Ave</td>\n      <td>40.737604</td>\n      <td>-74.052478</td>\n      <td>3640</td>\n      <td>Journal Square</td>\n      <td>40.733670</td>\n      <td>-74.062500</td>\n      <td>44744.0</td>\n      <td>Subscriber</td>\n      <td>1963.0</td>\n      <td>2.0</td>\n      <td>NaN</td>\n      <td>NaN</td>\n      <td>NaN</td>\n    </tr>\n    <tr>\n      <th>53829</th>\n      <td>400.0</td>\n      <td>2020-10-13 15:09:03.4890</td>\n      <td>2020-10-13 15:15:43.9750</td>\n      <td>3209</td>\n      <td>Brunswick St</td>\n      <td>40.724176</td>\n      <td>-74.050656</td>\n      <td>3209</td>\n      <td>Brunswick St</td>\n      <td>40.724176</td>\n      <td>-74.050656</td>\n      <td>45345.0</td>\n      <td>Subscriber</td>\n      <td>1984.0</td>\n      <td>1.0</td>\n      <td>NaN</td>\n      <td>NaN</td>\n      <td>NaN</td>\n    </tr>\n    <tr>\n      <th>53830</th>\n      <td>206.0</td>\n      <td>2020-10-13 15:11:34.3500</td>\n      <td>2020-10-13 15:15:00.5030</td>\n      <td>3195</td>\n      <td>Sip Ave</td>\n      <td>40.730897</td>\n      <td>-74.063913</td>\n      <td>3194</td>\n      <td>McGinley Square</td>\n      <td>40.725340</td>\n      <td>-74.067622</td>\n      <td>47019.0</td>\n      <td>Subscriber</td>\n      <td>1993.0</td>\n      <td>1.0</td>\n      <td>NaN</td>\n      <td>NaN</td>\n      <td>NaN</td>\n    </tr>\n    <tr>\n      <th>53831</th>\n      <td>216.0</td>\n      <td>2020-10-13 15:11:49.1510</td>\n      <td>2020-10-13 15:15:25.6930</td>\n      <td>3195</td>\n      <td>Sip Ave</td>\n      <td>40.730897</td>\n      <td>-74.063913</td>\n      <td>3225</td>\n      <td>Baldwin at Montgomery</td>\n      <td>40.723659</td>\n      <td>-74.064194</td>\n      <td>42191.0</td>\n      <td>Subscriber</td>\n      <td>1966.0</td>\n      <td>1.0</td>\n      <td>NaN</td>\n      <td>NaN</td>\n      <td>NaN</td>\n    </tr>\n    <tr>\n      <th>53832</th>\n      <td>418.0</td>\n      <td>2020-10-13 15:12:31.7920</td>\n      <td>2020-10-13 15:19:30.5280</td>\n      <td>3267</td>\n      <td>Morris Canal</td>\n      <td>40.712419</td>\n      <td>-74.038526</td>\n      <td>3186</td>\n      <td>Grove St PATH</td>\n      <td>40.719586</td>\n      <td>-74.043117</td>\n      <td>47255.0</td>\n      <td>Subscriber</td>\n      <td>1991.0</td>\n      <td>1.0</td>\n      <td>NaN</td>\n      <td>NaN</td>\n      <td>NaN</td>\n    </tr>\n  </tbody>\n</table>\n<p>4207977 rows × 18 columns</p>\n</div>"
     },
     "execution_count": 39,
     "metadata": {},
     "output_type": "execute_result"
    }
   ],
   "source": [
    "def standardize_columns(df):\n",
    "    df.columns = df.columns.str.lower()\n",
    "    col_to_rename = {'starttime': 'start time', 'stoptime': 'stop time', 'tripduration': 'trip duration', 'bikeid':'bike id', 'usertype': 'user type',\n",
    "                     'started_at': 'start time', 'ended_at': 'stop time',\n",
    "                     'start_lat': 'start station latitude', 'start_lng': 'start station longitude', \n",
    "                     'end_lat': 'end station latitude', 'end_lng': 'end station longitude'}\n",
    "    df = df.rename(columns=col_to_rename)\n",
    "    cols = ['_'.join(col.split()) for col in df.columns]\n",
    "    df.columns = cols\n",
    "    return df\n",
    "\n",
    "\n",
    "def load_data():\n",
    "    for file in tqdm(glob.glob(os.path.join('data', '*.csv'))):\n",
    "        df = pd.read_csv(file).pipe(standardize_columns)\n",
    "        yield df\n",
    "        \n",
    "# Loading 12 times 8 years of data\n",
    "df = pd.concat(load_data())\n",
    "df"
   ],
   "metadata": {
    "collapsed": false,
    "ExecuteTime": {
     "end_time": "2024-01-21T19:11:33.641495Z",
     "start_time": "2024-01-21T19:11:12.404795Z"
    }
   },
   "id": "9b46850c227fbe42"
  },
  {
   "cell_type": "code",
   "execution_count": 40,
   "outputs": [
    {
     "name": "stdout",
     "output_type": "stream",
     "text": [
      "<class 'pandas.core.frame.DataFrame'>\n",
      "Index: 4207977 entries, 0 to 53832\n",
      "Data columns (total 18 columns):\n",
      " #   Column                   Dtype  \n",
      "---  ------                   -----  \n",
      " 0   trip_duration            float64\n",
      " 1   start_time               object \n",
      " 2   stop_time                object \n",
      " 3   start_station_id         object \n",
      " 4   start_station_name       object \n",
      " 5   start_station_latitude   float64\n",
      " 6   start_station_longitude  float64\n",
      " 7   end_station_id           object \n",
      " 8   end_station_name         object \n",
      " 9   end_station_latitude     float64\n",
      " 10  end_station_longitude    float64\n",
      " 11  bike_id                  float64\n",
      " 12  user_type                object \n",
      " 13  birth_year               float64\n",
      " 14  gender                   float64\n",
      " 15  ride_id                  object \n",
      " 16  rideable_type            object \n",
      " 17  member_casual            object \n",
      "dtypes: float64(8), object(10)\n",
      "memory usage: 610.0+ MB\n"
     ]
    }
   ],
   "source": [
    "df.info()"
   ],
   "metadata": {
    "collapsed": false,
    "ExecuteTime": {
     "end_time": "2024-01-21T19:12:08.226273Z",
     "start_time": "2024-01-21T19:12:08.185400Z"
    }
   },
   "id": "d62c5d86c930270c"
  },
  {
   "cell_type": "code",
   "execution_count": 42,
   "outputs": [],
   "source": [
    "from ydata_profiling import ProfileReport\n",
    "profile = ProfileReport(df, title='Citi Bike Data Profiling Report', explorative=True)\n",
    "profile.to_file('data_report/citi_bike_data_profiling_report.html')\n"
   ],
   "metadata": {
    "collapsed": false,
    "ExecuteTime": {
     "end_time": "2024-01-21T19:17:19.551970Z",
     "start_time": "2024-01-21T19:17:13.231813Z"
    }
   },
   "id": "46ffca6a2b9c3f3d"
  },
  {
   "cell_type": "code",
   "execution_count": 47,
   "outputs": [],
   "source": [
    "df.to_csv('data/citi_bike_data.csv', index=False)\n"
   ],
   "metadata": {
    "collapsed": false,
    "ExecuteTime": {
     "end_time": "2024-01-21T19:34:11.973477Z",
     "start_time": "2024-01-21T19:33:28.897972Z"
    }
   },
   "id": "33726bbeca96e0d2"
  },
  {
   "cell_type": "code",
   "execution_count": null,
   "outputs": [],
   "source": [],
   "metadata": {
    "collapsed": false
   },
   "id": "13c4dd9ef86809e9"
  }
 ],
 "metadata": {
  "kernelspec": {
   "display_name": "Python 3",
   "language": "python",
   "name": "python3"
  },
  "language_info": {
   "codemirror_mode": {
    "name": "ipython",
    "version": 2
   },
   "file_extension": ".py",
   "mimetype": "text/x-python",
   "name": "python",
   "nbconvert_exporter": "python",
   "pygments_lexer": "ipython2",
   "version": "2.7.6"
  }
 },
 "nbformat": 4,
 "nbformat_minor": 5
}
